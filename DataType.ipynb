{
 "cells": [
  {
   "cell_type": "code",
   "execution_count": 25,
   "metadata": {},
   "outputs": [],
   "source": [
    "import os\n",
    "import numpy as np"
   ]
  },
  {
   "cell_type": "code",
   "execution_count": 20,
   "metadata": {},
   "outputs": [],
   "source": [
    "filename = 'sp500.csv'\n",
    "file = open(filename, 'rb').read()\n",
    "data = file.decode().split('\\n')"
   ]
  },
  {
   "cell_type": "code",
   "execution_count": 21,
   "metadata": {},
   "outputs": [
    {
     "data": {
      "text/plain": [
       "['1455.219971',\n",
       " '1399.420044',\n",
       " '1402.109985',\n",
       " '1403.449951',\n",
       " '1441.469971',\n",
       " '1457.599976',\n",
       " '1438.560059',\n",
       " '1432.25',\n",
       " '1449.680054',\n",
       " '1465.150024']"
      ]
     },
     "execution_count": 21,
     "metadata": {},
     "output_type": "execute_result"
    }
   ],
   "source": [
    "data[:10]"
   ]
  },
  {
   "cell_type": "code",
   "execution_count": 63,
   "metadata": {},
   "outputs": [],
   "source": [
    "seq_len = 1\n",
    "sequence_length = seq_len + 1\n",
    "result = []\n",
    "\n",
    "    #データ数だけループする\n",
    "for index in range(len(data) - 1):\n",
    "    #resultにdataをsequence_lengthずつずらした範囲のデータを格納\n",
    "    #resultは[len(data),sequence_length]の配列となる\n",
    "    result.append(data[index:index + sequence_length])"
   ]
  },
  {
   "cell_type": "code",
   "execution_count": 64,
   "metadata": {},
   "outputs": [
    {
     "data": {
      "text/plain": [
       "[['1455.219971', '1399.420044'],\n",
       " ['1399.420044', '1402.109985'],\n",
       " ['1402.109985', '1403.449951'],\n",
       " ['1403.449951', '1441.469971'],\n",
       " ['1441.469971', '1457.599976']]"
      ]
     },
     "execution_count": 64,
     "metadata": {},
     "output_type": "execute_result"
    }
   ],
   "source": [
    "result[:5]"
   ]
  },
  {
   "cell_type": "code",
   "execution_count": 65,
   "metadata": {},
   "outputs": [],
   "source": [
    "result = np.array(result)\n",
    "\n",
    "#全データの9割の部分の行番号を取得\n",
    "row = round(0.9*result.shape[0])\n",
    "train = result[:int(row),:]\n",
    "train_non_shuffle = train.copy()"
   ]
  },
  {
   "cell_type": "code",
   "execution_count": 66,
   "metadata": {},
   "outputs": [
    {
     "data": {
      "text/plain": [
       "array([['1455.219971', '1399.420044'],\n",
       "       ['1399.420044', '1402.109985'],\n",
       "       ['1402.109985', '1403.449951'],\n",
       "       ..., \n",
       "       ['2053.439941', '2066.550049'],\n",
       "       ['2066.550049', '2074.330078'],\n",
       "       ['2074.330078', '2071.919922']], \n",
       "      dtype='<U11')"
      ]
     },
     "execution_count": 66,
     "metadata": {},
     "output_type": "execute_result"
    }
   ],
   "source": [
    "train"
   ]
  },
  {
   "cell_type": "code",
   "execution_count": 67,
   "metadata": {},
   "outputs": [],
   "source": [
    "np.random.shuffle(train)"
   ]
  },
  {
   "cell_type": "code",
   "execution_count": 68,
   "metadata": {},
   "outputs": [
    {
     "data": {
      "text/plain": [
       "array([['1883.949951', '1883.680054'],\n",
       "       ['1377.650024', '1377.199951'],\n",
       "       ['1171.349976', '1178.839966'],\n",
       "       ..., \n",
       "       ['2000.02002', '2000.119995'],\n",
       "       ['1399.420044', '1402.109985'],\n",
       "       ['1219.430054', '1207.01001']], \n",
       "      dtype='<U11')"
      ]
     },
     "execution_count": 68,
     "metadata": {},
     "output_type": "execute_result"
    }
   ],
   "source": [
    "train"
   ]
  },
  {
   "cell_type": "code",
   "execution_count": 69,
   "metadata": {},
   "outputs": [
    {
     "data": {
      "text/plain": [
       "array([['1455.219971', '1399.420044'],\n",
       "       ['1399.420044', '1402.109985'],\n",
       "       ['1402.109985', '1403.449951'],\n",
       "       ..., \n",
       "       ['2053.439941', '2066.550049'],\n",
       "       ['2066.550049', '2074.330078'],\n",
       "       ['2074.330078', '2071.919922']], \n",
       "      dtype='<U11')"
      ]
     },
     "execution_count": 69,
     "metadata": {},
     "output_type": "execute_result"
    }
   ],
   "source": [
    "train_non_shuffle"
   ]
  },
  {
   "cell_type": "code",
   "execution_count": 70,
   "metadata": {},
   "outputs": [],
   "source": [
    "x_train = train_non_shuffle[:,:-1]\n",
    "y_train = train_non_shuffle[:,-1]"
   ]
  },
  {
   "cell_type": "code",
   "execution_count": 74,
   "metadata": {},
   "outputs": [
    {
     "data": {
      "text/plain": [
       "(3754, 1)"
      ]
     },
     "execution_count": 74,
     "metadata": {},
     "output_type": "execute_result"
    }
   ],
   "source": [
    "x_train.shape"
   ]
  },
  {
   "cell_type": "code",
   "execution_count": 73,
   "metadata": {},
   "outputs": [
    {
     "data": {
      "text/plain": [
       "array(['1399.420044', '1402.109985', '1403.449951', ..., '2066.550049',\n",
       "       '2074.330078', '2071.919922'], \n",
       "      dtype='<U11')"
      ]
     },
     "execution_count": 73,
     "metadata": {},
     "output_type": "execute_result"
    }
   ],
   "source": [
    "y_train"
   ]
  },
  {
   "cell_type": "code",
   "execution_count": null,
   "metadata": {},
   "outputs": [],
   "source": []
  }
 ],
 "metadata": {
  "kernelspec": {
   "display_name": "Python 3",
   "language": "python",
   "name": "python3"
  },
  "language_info": {
   "codemirror_mode": {
    "name": "ipython",
    "version": 3
   },
   "file_extension": ".py",
   "mimetype": "text/x-python",
   "name": "python",
   "nbconvert_exporter": "python",
   "pygments_lexer": "ipython3",
   "version": "3.6.6"
  }
 },
 "nbformat": 4,
 "nbformat_minor": 2
}
